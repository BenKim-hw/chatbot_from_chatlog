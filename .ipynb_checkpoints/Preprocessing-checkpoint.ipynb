{
 "cells": [
  {
   "cell_type": "code",
   "execution_count": null,
   "id": "5de8a4ee",
   "metadata": {},
   "outputs": [],
   "source": [
    "`import sys\n",
    "import emoji"
   ]
  },
  {
   "cell_type": "code",
   "execution_count": 15,
   "id": "c33ed54c",
   "metadata": {},
   "outputs": [],
   "source": [
    "remove_strings = ['https','Photo','Emoticon','샵검색','This message was deleted','Video','File','Contacts']"
   ]
  },
  {
   "cell_type": "code",
   "execution_count": 16,
   "id": "07692ed1",
   "metadata": {},
   "outputs": [],
   "source": [
    "def check_corrupt_str(s):\n",
    "    for i in remove_strings:\n",
    "        if i in s:\n",
    "            return True\n",
    "    return False"
   ]
  },
  {
   "cell_type": "code",
   "execution_count": 18,
   "id": "67a745ff",
   "metadata": {},
   "outputs": [],
   "source": [
    "raw_chat = open('KakaoTalk_Chat_winter_vacation_Monly.csv','r')\n",
    "filtered_chat = open('KakaoTalk_Chat_winter_vacation_train.csv','w')\n",
    "\n",
    "raw_chat.readline()\n",
    "cnt = 0\n",
    "for line in raw_chat:\n",
    "    line = line.strip()\n",
    "    if check_corrupt_str(line):\n",
    "        continue\n",
    "    if emoji.is_emoji(line):\n",
    "        continue\n",
    "    filtered_chat.write(line+',')\n",
    "    if cnt==1:\n",
    "        filtered_chat.write('0\\n')\n",
    "        cnt-=1\n",
    "    else:\n",
    "        cnt+=1\n",
    "\n",
    "raw_chat.close()\n",
    "filtered_chat.close()"
   ]
  },
  {
   "cell_type": "code",
   "execution_count": 12,
   "id": "bc649a42",
   "metadata": {},
   "outputs": [],
   "source": []
  },
  {
   "cell_type": "code",
   "execution_count": 13,
   "id": "d7a1cde5",
   "metadata": {},
   "outputs": [
    {
     "data": {
      "text/plain": [
       "False"
      ]
     },
     "execution_count": 13,
     "metadata": {},
     "output_type": "execute_result"
    }
   ],
   "source": [
    "emoji.is_emoji('🪺🍳')"
   ]
  },
  {
   "cell_type": "code",
   "execution_count": 6,
   "id": "96e44ed0",
   "metadata": {},
   "outputs": [
    {
     "data": {
      "text/plain": [
       "':nest_with_eggs::cooking:'"
      ]
     },
     "execution_count": 6,
     "metadata": {},
     "output_type": "execute_result"
    }
   ],
   "source": [
    "emoji.demojize('🪺🍳')"
   ]
  },
  {
   "cell_type": "code",
   "execution_count": null,
   "id": "6fd54126",
   "metadata": {},
   "outputs": [],
   "source": []
  },
  {
   "cell_type": "code",
   "execution_count": null,
   "id": "c9906db9",
   "metadata": {},
   "outputs": [],
   "source": []
  },
  {
   "cell_type": "code",
   "execution_count": null,
   "id": "6f72bc27",
   "metadata": {},
   "outputs": [],
   "source": []
  },
  {
   "cell_type": "code",
   "execution_count": null,
   "id": "869f246a",
   "metadata": {},
   "outputs": [],
   "source": []
  }
 ],
 "metadata": {
  "kernelspec": {
   "display_name": "Python 3 (ipykernel)",
   "language": "python",
   "name": "python3"
  },
  "language_info": {
   "codemirror_mode": {
    "name": "ipython",
    "version": 3
   },
   "file_extension": ".py",
   "mimetype": "text/x-python",
   "name": "python",
   "nbconvert_exporter": "python",
   "pygments_lexer": "ipython3",
   "version": "3.9.16"
  },
  "toc": {
   "base_numbering": 1,
   "nav_menu": {},
   "number_sections": false,
   "sideBar": true,
   "skip_h1_title": false,
   "title_cell": "Table of Contents",
   "title_sidebar": "Contents",
   "toc_cell": false,
   "toc_position": {},
   "toc_section_display": true,
   "toc_window_display": true
  }
 },
 "nbformat": 4,
 "nbformat_minor": 5
}
